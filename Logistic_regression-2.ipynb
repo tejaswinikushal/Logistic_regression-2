{
 "cells": [
  {
   "cell_type": "markdown",
   "id": "9de774b0",
   "metadata": {},
   "source": [
    "#### Q1. What is the purpose of grid search cv in machine learning, and how does it work?"
   ]
  },
  {
   "cell_type": "markdown",
   "id": "197c6422",
   "metadata": {},
   "source": [
    "#### Purpose: \n",
    "          Grid Search Cross-Validation (Grid Search CV) is used to find the best hyperparameters for a machine learning model by exhaustively searching a predefined hyperparameter space.\n",
    "#### How it works:\n",
    "          It systematically evaluates a model's performance for each combination of hyperparameters in a grid. It uses cross-validation to ensure robustness by splitting the dataset into multiple folds and assessing performance on different subsets, helping prevent overfitting."
   ]
  },
  {
   "cell_type": "markdown",
   "id": "ec1ab5df",
   "metadata": {},
   "source": [
    "#### Q2. Describe the difference between grid search cv and randomize search cv, and when might you choose one over the other?"
   ]
  },
  {
   "cell_type": "markdown",
   "id": "72ac2f56",
   "metadata": {},
   "source": [
    "#### Grid Search CV:\n",
    "         Exhaustively searches all possible combinations in a predefined hyperparameter grid.\n",
    "#### Randomized Search CV:\n",
    "          Randomly samples a specified number of hyperparameter combinations from the given hyperparameter space.\n",
    "#### When to choose:\n",
    "Use Grid Search CV when the hyperparameter search space is reasonably small, and computational resources allow for an exhaustive search.\n",
    "\n",
    "Use Randomized Search CV when the hyperparameter space is large, and a full grid search would be computationally expensive."
   ]
  },
  {
   "cell_type": "markdown",
   "id": "66b8bed1",
   "metadata": {},
   "source": [
    "#### Q3. What is data leakage, and why is it a problem in machine learning? Provide an example."
   ]
  },
  {
   "cell_type": "markdown",
   "id": "1209a1b3",
   "metadata": {},
   "source": [
    "#### Data leakage:\n",
    "          Occurs when information from the test set or unseen data is inadvertently used during model training, leading to overly optimistic performance metrics.\n",
    "#### Problem: \n",
    "         It can result in models that generalize poorly to new, unseen data, as the model learned patterns specific to the training data that may not hold in a broader context."
   ]
  },
  {
   "cell_type": "markdown",
   "id": "aa25a8e7",
   "metadata": {},
   "source": [
    "#### Q4. How can you prevent data leakage when building a machine learning model?"
   ]
  },
  {
   "cell_type": "markdown",
   "id": "dbdcd3f1",
   "metadata": {},
   "source": [
    "#### Data leakage: \n",
    "       Occurs when information from the test set or unseen data is inadvertently used during model training, leading to overly optimistic performance metrics.\n",
    "#### Problem: \n",
    "         It can result in models that generalize poorly to new, unseen data, as the model learned patterns specific to the training data that may not hold in a broader context."
   ]
  },
  {
   "cell_type": "markdown",
   "id": "c3c5fd51",
   "metadata": {},
   "source": [
    "#### Q5. What is a confusion matrix, and what does it tell you about the performance of a classification model?"
   ]
  },
  {
   "cell_type": "markdown",
   "id": "d5cbd560",
   "metadata": {},
   "source": [
    "####  Confusion matrix and its role in classification model evaluation:\n",
    "\n",
    "Confusion Matrix: A table showing the true positive, true negative, false positive, and false negative counts.\n",
    "\n",
    "Role: Provides insights into the performance of a classification model by quantifying different types of predictions."
   ]
  },
  {
   "cell_type": "markdown",
   "id": "afb79628",
   "metadata": {},
   "source": [
    "#### Q6. Explain the difference between precision and recall in the context of a confusion matrix."
   ]
  },
  {
   "cell_type": "markdown",
   "id": "649258d7",
   "metadata": {},
   "source": [
    "#### Difference between precision and recall in the context of a confusion matrix:\n",
    "\n",
    "Precision: The ratio of true positives to the total predicted positives.\n",
    "\n",
    "Recall (Sensitivity): The ratio of true positives to the total actual positives.\n",
    "\n",
    "Difference: Precision focuses on the accuracy of positive predictions, while recall assesses the model's ability to capture all positive instances."
   ]
  },
  {
   "cell_type": "markdown",
   "id": "8535ed80",
   "metadata": {},
   "source": [
    "#### Q7. How can you interpret a confusion matrix to determine which types of errors your model is making?"
   ]
  },
  {
   "cell_type": "markdown",
   "id": "964b3dae",
   "metadata": {},
   "source": [
    "#### Interpreting a confusion matrix to determine error types:\n",
    "\n",
    "True Positive (TP): Correctly predicted positive instances.\n",
    "\n",
    "True Negative (TN): Correctly predicted negative instances.\n",
    "\n",
    "False Positive (FP): Incorrectly predicted positive instances.\n",
    "\n",
    "False Negative (FN): Incorrectly predicted negative instances.\n",
    "\n",
    "Interpretation: Analyze the distribution of these values to identify the types of errors the model is making."
   ]
  },
  {
   "cell_type": "markdown",
   "id": "9c53a06a",
   "metadata": {},
   "source": [
    "#### Q8. What are some common metrics that can be derived from a confusion matrix, and how are they calculated?"
   ]
  },
  {
   "cell_type": "markdown",
   "id": "d079c9cd",
   "metadata": {},
   "source": [
    "#### Common metrics derived from a confusion matrix and their calculations:\n",
    "#### ACCURACY:\n",
    "(TP+TN)/(TP+TN+FP+FN)\n",
    "\n",
    "#### Precision: \n",
    "\n",
    "TP/(TP+FP)\n",
    " \n",
    "#### Recall (Sensitivity):\n",
    "TP/(TP+FN)\n",
    "\n",
    "#### F1 Score: \n",
    "\n",
    "2× (Precision*Recall)/(Precision×Recall)"
   ]
  },
  {
   "cell_type": "markdown",
   "id": "31e17827",
   "metadata": {},
   "source": [
    "#### Q9. What is the relationship between the accuracy of a model and the values in its confusion matrix"
   ]
  },
  {
   "cell_type": "markdown",
   "id": "0f99e65a",
   "metadata": {},
   "source": [
    "#### Relationship between model accuracy and confusion matrix values:\n",
    "\n",
    "Accuracy: The overall correctness of predictions, calculated as \n",
    "\n",
    "(TP+TN)/(TP+TN+FP+FN)\n",
    "\n",
    "Relationship: Accuracy depends on the correct predictions (TP and TN) relative to the total number of predictions."
   ]
  },
  {
   "cell_type": "markdown",
   "id": "cd3d5cc8",
   "metadata": {},
   "source": [
    "#### Q10. How can you use a confusion matrix to identify potential biases or limitations in your machine learning model?"
   ]
  },
  {
   "cell_type": "markdown",
   "id": "c53e7ee3",
   "metadata": {},
   "source": [
    "#### Using a confusion matrix to identify biases or limitations in a model:\n",
    "\n",
    "#### Bias Detection: \n",
    "       Check if there are significant differences in performance across different classes.\n",
    "#### Class Imbalance:\n",
    "       Identify if the model is biased towards the majority class and neglecting minority classes.\n",
    "#### Error Analysis:\n",
    "       Examine specific types of errors to understand model limitations and potential biases."
   ]
  },
  {
   "cell_type": "code",
   "execution_count": null,
   "id": "b69004c2",
   "metadata": {},
   "outputs": [],
   "source": []
  }
 ],
 "metadata": {
  "kernelspec": {
   "display_name": "Python 3 (ipykernel)",
   "language": "python",
   "name": "python3"
  },
  "language_info": {
   "codemirror_mode": {
    "name": "ipython",
    "version": 3
   },
   "file_extension": ".py",
   "mimetype": "text/x-python",
   "name": "python",
   "nbconvert_exporter": "python",
   "pygments_lexer": "ipython3",
   "version": "3.11.2"
  }
 },
 "nbformat": 4,
 "nbformat_minor": 5
}
